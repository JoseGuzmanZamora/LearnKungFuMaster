{
 "cells": [
  {
   "cell_type": "code",
   "execution_count": 1,
   "metadata": {},
   "outputs": [],
   "source": [
    "import gym\n",
    "import cv2 as cv\n",
    "import matplotlib.pyplot as plt "
   ]
  },
  {
   "cell_type": "code",
   "execution_count": 6,
   "metadata": {},
   "outputs": [
    {
     "name": "stdout",
     "output_type": "stream",
     "text": [
      "Discrete(14)\n",
      "Box(210, 160, 3)\n",
      "(210, 160, 3)\n"
     ]
    }
   ],
   "source": [
    "env = gym.make('KungFuMaster-v0')\n",
    "\n",
    "print(env.action_space)\n",
    "# Discrete 14 posibilidades\n",
    "actions = env.action_space.n\n",
    "\n",
    "print(env.observation_space)\n",
    "# una imagen de 210,160,3 shape\n",
    "dimensions = env.observation_space.shape\n",
    "print(dimensions)"
   ]
  },
  {
   "cell_type": "code",
   "execution_count": 3,
   "metadata": {},
   "outputs": [],
   "source": [
    "env.reset()\n",
    "for _ in range(1000):\n",
    "    env.render()\n",
    "    next_image, reward, done, info = env.step(env.action_space.sample())\n",
    "    if done:\n",
    "        # el personaje tiene 3 vidas para usar \n",
    "        break\n",
    "env.close()"
   ]
  },
  {
   "cell_type": "code",
   "execution_count": 4,
   "metadata": {},
   "outputs": [
    {
     "name": "stderr",
     "output_type": "stream",
     "text": [
      "Using TensorFlow backend.\n"
     ]
    }
   ],
   "source": [
    "# Framework con los algoritmos de ML necesarios \n",
    "import tensorflow as tf \n",
    "import keras\n",
    "\n",
    "# Funciones necesarias para la arquitectura de la CNN \n",
    "from keras.utils import plot_model, to_categorical\n",
    "from keras.models import Sequential, load_model, Model\n",
    "from keras.layers import Conv2D, MaxPooling2D, Dense, Flatten, Dropout"
   ]
  },
  {
   "cell_type": "code",
   "execution_count": 19,
   "metadata": {},
   "outputs": [],
   "source": [
    "def modelo():\n",
    "    model = Sequential()\n",
    "    \n",
    "    model.add(Conv2D(32, (3,3), activation='relu', input_shape=dimensions))\n",
    "    model.add(MaxPooling2D(pool_size=(2,2)))\n",
    "    model.add(Dropout(0.25))\n",
    "    \n",
    "    model.add(Conv2D(64, (3,3), activation='relu'))\n",
    "    model.add(MaxPooling2D(pool_size=(2,2)))\n",
    "    model.add(Dropout(0.25))\n",
    "    \n",
    "    model.add(Flatten())\n",
    "    model.add(Dense(64,activation='relu'))\n",
    "    model.add(Dropout(0.3))\n",
    "    model.add(Dense(64,activation='relu'))\n",
    "    model.add(Dense(actions,activation='softmax'))\n",
    "    \n",
    "    model.compile(optimizer='adam',\n",
    "                  loss='sparse_categorical_crossentropy',\n",
    "                  metrics=['accuracy'])\n",
    "    return model"
   ]
  },
  {
   "cell_type": "code",
   "execution_count": 25,
   "metadata": {},
   "outputs": [],
   "source": [
    "# este va a ser el modelo que debe de hacer el fit, es decir entrenamiento\n",
    "modelo_principal = modelo()\n",
    "# este modelo va a ser el que se va actualizar despues de cierta cantidad de iteraciones y hace el predict \n",
    "modelo_predictivo = modelo()\n",
    "# los pesos tienen que empezar igual \n",
    "modelo_predictivo.set_weights(modelo_principal.get_weights())"
   ]
  },
  {
   "cell_type": "code",
   "execution_count": 29,
   "metadata": {},
   "outputs": [],
   "source": [
    "from collections import deque\n",
    "\n",
    "\n",
    "# Se obtendra una muestra aleatorea de la cantidad de steps y estos se convierten en un batch que se va a entrenar con el modelo principal\n",
    "memory_size = 50_000\n",
    "memory = deque(maxlen=memory_size)\n",
    "\n",
    "# la siguiente variable nos va a servir para saber cuando hay que actualizar el modelo predictivo \n",
    "contador_actualizacion = 0"
   ]
  },
  {
   "cell_type": "code",
   "execution_count": 30,
   "metadata": {},
   "outputs": [],
   "source": [
    "def actualizacion_memoria(informacion):\n",
    "    memory.append(informacion)"
   ]
  },
  {
   "cell_type": "code",
   "execution_count": 32,
   "metadata": {},
   "outputs": [],
   "source": [
    "def Q(estado):\n",
    "    return model.predict(np.array(estado).reshape(-1, *estado.shape) / 255)[0]"
   ]
  },
  {
   "cell_type": "code",
   "execution_count": null,
   "metadata": {},
   "outputs": [],
   "source": []
  }
 ],
 "metadata": {
  "kernelspec": {
   "display_name": "Python 3",
   "language": "python",
   "name": "python3"
  },
  "language_info": {
   "codemirror_mode": {
    "name": "ipython",
    "version": 3
   },
   "file_extension": ".py",
   "mimetype": "text/x-python",
   "name": "python",
   "nbconvert_exporter": "python",
   "pygments_lexer": "ipython3",
   "version": "3.7.6"
  }
 },
 "nbformat": 4,
 "nbformat_minor": 4
}
