{
 "cells": [
  {
   "cell_type": "code",
   "execution_count": 14,
   "metadata": {},
   "outputs": [],
   "source": [
    "# Framework con los algoritmos de ML necesarios \n",
    "import tensorflow as tf \n",
    "import keras\n",
    "\n",
    "# Funciones necesarias para la arquitectura de la CNN \n",
    "from keras.utils import plot_model, to_categorical\n",
    "from keras.models import Sequential, load_model, Model\n",
    "from keras.layers import Conv2D, MaxPooling2D, Dense, Flatten, Dropout\n",
    "from keras.callbacks import ModelCheckpoint\n",
    "\n",
    "\n",
    "import gym\n",
    "import cv2 as cv\n",
    "import matplotlib.pyplot as plt \n",
    "\n",
    "import numpy as np \n",
    "import pickle\n",
    "\n",
    "from collections import deque\n",
    "import random"
   ]
  },
  {
   "cell_type": "code",
   "execution_count": 3,
   "metadata": {},
   "outputs": [
    {
     "name": "stdout",
     "output_type": "stream",
     "text": [
      "Discrete(14)\n",
      "Box(210, 160, 3)\n",
      "(210, 160, 3)\n"
     ]
    }
   ],
   "source": [
    "env = gym.make('KungFuMaster-v0')\n",
    "\n",
    "print(env.action_space)\n",
    "# Discrete 14 posibilidades\n",
    "actions = env.action_space.n\n",
    "\n",
    "print(env.observation_space)\n",
    "# una imagen de 210,160,3 shape\n",
    "dimensions = env.observation_space.shape\n",
    "print(dimensions)"
   ]
  },
  {
   "cell_type": "code",
   "execution_count": 4,
   "metadata": {},
   "outputs": [],
   "source": [
    "def modelo(dimensions):\n",
    "    model = Sequential()\n",
    "    \n",
    "    model.add(Conv2D(32, (3,3), activation='relu', input_shape=dimensions))\n",
    "    model.add(MaxPooling2D(pool_size=(2,2)))\n",
    "    model.add(Dropout(0.3))\n",
    "    \n",
    "    model.add(Conv2D(64, (3,3), activation='relu'))\n",
    "    model.add(MaxPooling2D(pool_size=(2,2)))\n",
    "    model.add(Dropout(0.3))\n",
    "    \n",
    "    model.add(Flatten())\n",
    "    model.add(Dense(64,activation='relu'))\n",
    "    model.add(Dropout(0.3))\n",
    "    model.add(Dense(64,activation='relu'))\n",
    "    \n",
    "    model.add(Dense(actions,activation='linear'))\n",
    "    \n",
    "    opt = keras.optimizers.Adam(learning_rate=0.00015)\n",
    "    model.compile(optimizer=opt,\n",
    "                  loss='categorical_crossentropy',\n",
    "                  metrics=['accuracy'])\n",
    "    return model"
   ]
  },
  {
   "cell_type": "code",
   "execution_count": 47,
   "metadata": {},
   "outputs": [],
   "source": [
    "# originalmente estaba modelo_principal.predict, ahorita vamos a ver \n",
    "def predecir_qs(img,modelo):\n",
    "    return np.argmax(modelo.predict(np.expand_dims(img,0) / 255))"
   ]
  },
  {
   "cell_type": "code",
   "execution_count": 66,
   "metadata": {},
   "outputs": [],
   "source": [
    "# en base a este contador vamos a saber cuando actualizar los pesos del modelo predictivo\n",
    "# es decir cada vez que llega a este limite se va a actualizar el modelo de target \n",
    "# cada 5 partidas se va a actualizar \n",
    "actualizacion_limit = 7\n",
    "# batch size \n",
    "batch_s = 32 \n",
    "# este valor indica que tanto se aprecian los valores futuros en relacion a los presentes\n",
    "# si el valor es 1 significa que los valores futuros tienen la misma importancia \n",
    "descuento = 0.99\n",
    "\n",
    "# codigo del entrenamiento, al momento de llegar aqui, venimos del loop principal y lo que ha pasado hasta el \n",
    "# momento es que se hizo un step y la informacion de ese step se agrego a la memoria, ahora hay que entrenar \n",
    "# dependiendo de la cantidad de valores que hay disponibles.\n",
    "def train(done_test,actualizacion,save):\n",
    "    \n",
    "    # este es el caso en el que no tenemos suficientes datos para obtener de la memoria.\n",
    "    if len(memory) < batch_s:\n",
    "        return actualizacion\n",
    "    \n",
    "    # obtener el batch que se va a usar de entrenamiento, este se obtiene de manera aleatoria de la memoria \n",
    "    batch = random.sample(memory, batch_s)\n",
    "    \n",
    "    # obtener imagenes anteriores, estas provienen de la memoria, es decir tendriamos 64 imagenes, se estandarizan\n",
    "    imagenes_anteriores = np.array([i[0] for i in batch]) / 255\n",
    "    # los valores de q correspondientes a la parte de la derecha de la ecuacion \n",
    "    # lo que hace esto es Q(s,t) en donde s es la imagen actual o pasdas en este caso \n",
    "    # a esto tambien se le conoce como los valores de y_pred, el resultado de nuestra prediccion obviamente \n",
    "    calidades_actuales = modelo_prediccion.predict(imagenes_anteriores)\n",
    "    \n",
    "    # estas son las imagenes nuevas pero igual de cada uno de los elementos del batch \n",
    "    imagenes_nuevas = np.array([i[3] for i in batch]) / 255\n",
    "    # esto corresponde a la parte izquierda de la formula es decir Q(s',t') son las imagenes futuras y se obtiene su calidad\n",
    "    # sin embargo en este caso tenemos que usar el modelo target porque es el que se va actualizando\n",
    "    calidades_futuras = modelo_target.predict(imagenes_nuevas)\n",
    "    \n",
    "    # iniciar los arreglos que van a tener toda la info para el entrenamiento temporal de la red \n",
    "    # x tiene que llevar todas las imagenes anteriores o actuales \n",
    "    x = []\n",
    "    # y tiene que llevar todos los resultados del modelo de target pero junto con el resto de la formula reward + decay * Q'\n",
    "    y = []\n",
    "    \n",
    "    # este loop todavia no es de entrenamiento, solo es de poblar el dataset temporal que es del tamanio del batch\n",
    "    # toda la info que hay en el enumerate es lo que guardamos anteriormente en la memoria \n",
    "    for index, (imagen_actual, action, reward, imagen_nueva, done) in enumerate(batch):\n",
    "        # si por alguna razon obtenemos un done del batch hay que considerar que hacer \n",
    "        if not done:\n",
    "            # si no esta done entonces el valor del target se evalua en base a la formula\n",
    "            valor_nuevo = reward + (descuento * np.max(calidades_futuras[index]))\n",
    "        else:\n",
    "            # de lo contrario no va haber imagen futura entonces el reward es el mismo que el valor \n",
    "            valor_nuevo = reward \n",
    "        \n",
    "        # obtener las calidades correspondientes al step actual, seria un listado de resultados anteriores \n",
    "        # cada uno de estos listados va a tener un listado de la cantidad de acciones que hay 14 para kung fu \n",
    "        calidades_actuales_temp = calidades_actuales[index]\n",
    "        # ya que tenemos las calidades temporales pues obviamente hay que actualizar la de la accion que se tomo\n",
    "        # por lo tanto en action cambia al valor nuevo que se utilizo \n",
    "        calidades_actuales_temp[action] = valor_nuevo\n",
    "        \n",
    "        # agregar la imagen actual de cada estado del batch a x igual con su normalizacion \n",
    "        x.append(imagen_actual / 255)\n",
    "        # agregar las calidades de esa imagen, la diferencia es que como esto es el target \n",
    "        # aunque diga actuales sabemos que la accion de esta se cambio en base a las calidades del futuro\n",
    "        y.append(calidades_actuales_temp)\n",
    "        \n",
    "    # entrenar el modelo en base a lo que acabamos de poblar en el dataset temporal \n",
    "    # lo vamos a entrenar cada vez que termina una partida si no estariamos entrenandolo demasiadas veces cada 32 steps \n",
    "    modelo_prediccion.fit(np.asarray(x), np.asarray(y), batch_size=batch_s,\n",
    "                         verbose = 0, shuffle=False if done_test else None)\n",
    "    # verificar si si realizo el entrenamiento o no \n",
    "    if done_test:\n",
    "        # aqui entra si logro entrenar, es decir que termino el juego\n",
    "        actualizacion += 1\n",
    "        if actualizacion > actualizacion_limit:\n",
    "            # en este caso ya nos tocaria actualizar el modelo que hace las predicciones\n",
    "            actualizacion = 0\n",
    "            modelo_target.set_weights(modelo_prediccion.get_weights())\n",
    "    return actualizacion"
   ]
  },
  {
   "cell_type": "code",
   "execution_count": 68,
   "metadata": {},
   "outputs": [],
   "source": [
    "# este va a ser el modelo que debe de hacer el fit, es decir entrenamiento\n",
    "modelo_prediccion = modelo(adhoc_dims)\n",
    "# este modelo va a ser el que se va actualizar despues de cierta cantidad de iteraciones y hace el predict \n",
    "modelo_target = modelo(adhoc_dims)\n",
    "# los pesos tienen que empezar igual \n",
    "modelo_target.set_weights(modelo_prediccion.get_weights())"
   ]
  },
  {
   "cell_type": "code",
   "execution_count": 14,
   "metadata": {},
   "outputs": [
    {
     "ename": "NameError",
     "evalue": "name 'predecir_qs' is not defined",
     "output_type": "error",
     "traceback": [
      "\u001b[1;31m---------------------------------------------------------------------------\u001b[0m",
      "\u001b[1;31mNameError\u001b[0m                                 Traceback (most recent call last)",
      "\u001b[1;32m<ipython-input-14-c75940e467e8>\u001b[0m in \u001b[0;36m<module>\u001b[1;34m\u001b[0m\n\u001b[0;32m     17\u001b[0m     \u001b[1;32mwhile\u001b[0m \u001b[1;32mnot\u001b[0m \u001b[0mdone\u001b[0m\u001b[1;33m:\u001b[0m\u001b[1;33m\u001b[0m\u001b[1;33m\u001b[0m\u001b[0m\n\u001b[0;32m     18\u001b[0m         \u001b[1;32mif\u001b[0m \u001b[0mnp\u001b[0m\u001b[1;33m.\u001b[0m\u001b[0mrandom\u001b[0m\u001b[1;33m.\u001b[0m\u001b[0mrandom\u001b[0m\u001b[1;33m(\u001b[0m\u001b[1;33m)\u001b[0m \u001b[1;33m>\u001b[0m \u001b[0mepsilon\u001b[0m\u001b[1;33m:\u001b[0m\u001b[1;33m\u001b[0m\u001b[1;33m\u001b[0m\u001b[0m\n\u001b[1;32m---> 19\u001b[1;33m             \u001b[0maction\u001b[0m \u001b[1;33m=\u001b[0m \u001b[0mpredecir_qs\u001b[0m\u001b[1;33m(\u001b[0m\u001b[0mimagen_actual\u001b[0m\u001b[1;33m,\u001b[0m\u001b[0mmodelo_principal\u001b[0m\u001b[1;33m)\u001b[0m\u001b[1;33m\u001b[0m\u001b[1;33m\u001b[0m\u001b[0m\n\u001b[0m\u001b[0;32m     20\u001b[0m         \u001b[1;32melse\u001b[0m\u001b[1;33m:\u001b[0m\u001b[1;33m\u001b[0m\u001b[1;33m\u001b[0m\u001b[0m\n\u001b[0;32m     21\u001b[0m             \u001b[0maction\u001b[0m \u001b[1;33m=\u001b[0m \u001b[0menv\u001b[0m\u001b[1;33m.\u001b[0m\u001b[0maction_space\u001b[0m\u001b[1;33m.\u001b[0m\u001b[0msample\u001b[0m\u001b[1;33m(\u001b[0m\u001b[1;33m)\u001b[0m\u001b[1;33m\u001b[0m\u001b[1;33m\u001b[0m\u001b[0m\n",
      "\u001b[1;31mNameError\u001b[0m: name 'predecir_qs' is not defined"
     ]
    }
   ],
   "source": [
    "# Se obtendra una muestra aleatorea de la cantidad de steps y estos se convierten en un batch que se va a entrenar con el modelo principal\n",
    "\n",
    "# cv.resize(img,(64,64))[30:50,5:]\n",
    "\n",
    "# dimensiones seleccionadas para la parte interesante del juego. \n",
    "adhoc_dims = (20,59,3)\n",
    "# inicializacion de la memoria de iteraciones anteriores, el modelo \n",
    "# principal se va a ir entrenando por medio de mini batches que provienen de una \n",
    "# muestra aleatoria de la memoria. la cantidad de valores maximo es 20k\n",
    "memory = deque(maxlen=50000)\n",
    "# el minimo de valores permitido en la memoria para que se comience hacer el muestreo aleatorio\n",
    "minimo_memoria = 1000\n",
    "# cantidad de partidas que el ambiente va a utilizar para realizar el entrenamiento \n",
    "episodios = 25000\n",
    "# punto de decision para explorar o explotar, si el valor es mayor a epsilon entonces \n",
    "# exploto mi modelo, de lo contrario exploro nuevos movimientos con una funcion random. \n",
    "epsilon = 1\n",
    "# la cantidad que epsilon va a ir decrementando con el tiempo. \n",
    "decay = 0.9995\n",
    "# estadisticas importantes a tomar en cuenta por episodio\n",
    "# posteriormente se van a mostrar todas las ganancias, el promedio, maximo y minimo \n",
    "# el cumulative reward tambien es importante \n",
    "\n",
    "ganancias = []\n",
    "histories = []\n",
    "actualizacion = 0\n",
    "top_mean = 0\n",
    "save = False\n",
    "\n",
    "# empieza el loop principal, el for es representativo de cada partida, cada iteracion es un nuevo intento\n",
    "for i in range(episodios):\n",
    "    # inicializar las ganancias en 0 para la partida \n",
    "    episode_reward = 0\n",
    "    # inicializar el contador de steps que hay, no necesariamente va a ser un frame \n",
    "    step = 1 \n",
    "    \n",
    "    # primer imagen a utilizar, aqui ya pasa transformada a la necesidad del juego\n",
    "    imagen_actual = cv.resize(env.reset(),(64,64))[30:50,5:]\n",
    "    \n",
    "    # reiniciar la variable done porque obviamente despues de cada partida sera true\n",
    "    done = False \n",
    "    \n",
    "    # este es el loop de la partida, cada iteracion es un step, mientras no haya terminado...\n",
    "    while not done:\n",
    "        \n",
    "        # Exploration vs exploitation, en base al valor de epsilon va a hacer alguna de las 2 \n",
    "        if np.random.random() > epsilon:\n",
    "            # en este caso va a predecir, es decir, explotar el modelo actual \n",
    "            action = predecir_qs(imagen_actual,modelo_prediccion)\n",
    "        else:\n",
    "            # en este caso va a explorar, es decir intentar algo random\n",
    "            action = env.action_space.sample()\n",
    "        \n",
    "        # ahora hay que obtener la informacion del step que se esta realizando en base a la accion que predijimos\n",
    "        imagen_nueva, reward, done, exta_info = env.step(action)\n",
    "        # hacer la transformacion adhoc de la imagen \n",
    "        imagen_nueva = cv.resize(imagen_nueva,(64,64))[30:50,5:]\n",
    "        # obtener la recompensa de la accion que acabamos de hacer y sumarselo al acumulador de la partida \n",
    "        episode_reward += reward \n",
    "        \n",
    "        # ingresar al memory replay la imagen actual, la accion que hicimos, el reward, la imagen nueva y si ya termino o no \n",
    "        memory.append((imagen_actual, action, reward, imagen_nueva, done))\n",
    "        # ENTRENAMIENTO, actualizacion es un contador de actualizacion del modelo de target \n",
    "        actualizacion = train(done,actualizacion,save)\n",
    "        \n",
    "        # actualizar la imagen con la nueva que devuelve el step\n",
    "        imagen_actual = imagen_nueva\n",
    "        step += 1 \n",
    "    # al terminar la partida ponemos la suma de las recompensas de todas las acciones a un arreglo para su analisis\n",
    "    ganancias.append(episode_reward)\n",
    "    if np.mean(np.asarray(ganancias)) > top_mean:\n",
    "        top_mean = np.mean(np.asarray(ganancias))\n",
    "        path = \"./ModelosKungFu1/modelo\" + str(i) + \".h5\"\n",
    "        modelo_prediccion.save(path)\n",
    "        print(\"Mejor modelo guardado en partida #\",str(i))\n",
    "    if i % 500 == 0:\n",
    "        print(\"Episodio #\",str(i))\n",
    "    \n",
    "    # hacer el decay del epsilon para que poco a poco vaya explotando mas al modelo y deje de explorar \n",
    "    if epsilon > 0.1:\n",
    "        epsilon *= decay"
   ]
  },
  {
   "cell_type": "code",
   "execution_count": null,
   "metadata": {},
   "outputs": [],
   "source": [
    "modelo_prediccion.save(\"./ModelosFinales/modelo_prediccion1.h5\")\n",
    "modelo_prediccion.save_weights(\"./ModelosFinales/modelo_prediccion1_weights.h5\")"
   ]
  },
  {
   "cell_type": "markdown",
   "metadata": {},
   "source": [
    "TESTING"
   ]
  },
  {
   "cell_type": "code",
   "execution_count": 4,
   "metadata": {},
   "outputs": [],
   "source": [
    "# cargar el modelo para prueba\n",
    "model_test = load_model('./modelo_predictivo22.h5')\n",
    "model_test.compile(optimizer='adam',\n",
    "             loss='categorical_crossentropy',\n",
    "             metrics=['accuracy'])\n",
    "\n",
    "\n",
    "model_testp = load_model('./modelo_principal22.h5')\n",
    "model_testp.compile(optimizer='adam',\n",
    "             loss='categorical_crossentropy',\n",
    "             metrics=['accuracy'])"
   ]
  },
  {
   "cell_type": "code",
   "execution_count": 10,
   "metadata": {},
   "outputs": [],
   "source": [
    "pruebadif = modelo(adhoc_dims)\n",
    "pruebadif.load_weights(\"./modelo_principal_weights22.h5\")"
   ]
  },
  {
   "cell_type": "code",
   "execution_count": 11,
   "metadata": {},
   "outputs": [],
   "source": [
    "next_image = env.reset()\n",
    "for _ in range(1000):\n",
    "    env.render()\n",
    "    next_image = np.expand_dims(cv.resize(next_image,(64,64))[30:50,5:],0)\n",
    "    next_image, reward, done, info = env.step(np.argmax(pruebadif.predict(next_image)))\n",
    "    if done:\n",
    "        break\n",
    "env.close()"
   ]
  },
  {
   "cell_type": "code",
   "execution_count": 5,
   "metadata": {},
   "outputs": [],
   "source": [
    "rewards = pickle.load(open(\"./rewards.txt\",\"rb\"))\n",
    "x_axis = [i for i in range(1,1001)]"
   ]
  },
  {
   "cell_type": "code",
   "execution_count": 6,
   "metadata": {},
   "outputs": [
    {
     "data": {
      "text/plain": [
       "[<matplotlib.lines.Line2D at 0x1fe1f602f08>]"
      ]
     },
     "execution_count": 6,
     "metadata": {},
     "output_type": "execute_result"
    },
    {
     "data": {
      "image/png": "[encoded data removed]",
      "text/plain": [
       "<Figure size 432x288 with 1 Axes>"
      ]
     },
     "metadata": {
      "needs_background": "light"
     },
     "output_type": "display_data"
    }
   ],
   "source": [
    "plt.plot(x_axis,rewards)"
   ]
  },
  {
   "cell_type": "code",
   "execution_count": 11,
   "metadata": {},
   "outputs": [
    {
     "data": {
      "text/plain": [
       "[<matplotlib.lines.Line2D at 0x1fe21a68b08>]"
      ]
     },
     "execution_count": 11,
     "metadata": {},
     "output_type": "execute_result"
    },
    {
     "data": {
      "image/png": "[encoded data removed]",
      "text/plain": [
       "<Figure size 432x288 with 1 Axes>"
      ]
     },
     "metadata": {
      "needs_background": "light"
     },
     "output_type": "display_data"
    }
   ],
   "source": [
    "rewards_mean = []\n",
    "means = []\n",
    "maxr = []\n",
    "for i in rewards:\n",
    "    rewards_mean.append(i)\n",
    "    means.append(np.mean(np.array(rewards_mean)))\n",
    "    maxr.append(np.max(np.array(rewards_mean)))\n",
    "plt.plot(x_axis,means)"
   ]
  },
  {
   "cell_type": "code",
   "execution_count": 12,
   "metadata": {},
   "outputs": [
    {
     "data": {
      "text/plain": [
       "[<matplotlib.lines.Line2D at 0x1fe21ace2c8>]"
      ]
     },
     "execution_count": 12,
     "metadata": {},
     "output_type": "execute_result"
    },
    {
     "data": {
      "image/png": "[encoded data removed]",
      "text/plain": [
       "<Figure size 432x288 with 1 Axes>"
      ]
     },
     "metadata": {
      "needs_background": "light"
     },
     "output_type": "display_data"
    }
   ],
   "source": [
    "plt.plot(x_axis,maxr)"
   ]
  },
  {
   "cell_type": "code",
   "execution_count": null,
   "metadata": {},
   "outputs": [],
   "source": []
  }
 ],
 "metadata": {
  "kernelspec": {
   "display_name": "Python 3",
   "language": "python",
   "name": "python3"
  },
  "language_info": {
   "codemirror_mode": {
    "name": "ipython",
    "version": 3
   },
   "file_extension": ".py",
   "mimetype": "text/x-python",
   "name": "python",
   "nbconvert_exporter": "python",
   "pygments_lexer": "ipython3",
   "version": "3.7.6"
  }
 },
 "nbformat": 4,
 "nbformat_minor": 4
}
